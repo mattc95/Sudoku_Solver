{
 "cells": [
  {
   "cell_type": "code",
   "execution_count": 1,
   "metadata": {},
   "outputs": [],
   "source": [
    "import numpy"
   ]
  },
  {
   "cell_type": "code",
   "execution_count": 2,
   "metadata": {},
   "outputs": [],
   "source": [
    "# empty board\n",
    "# board = [[0,0,0,0,0,0,0,0,0],\n",
    "#          [0,0,0,0,0,0,0,0,0],\n",
    "#          [0,0,0,0,0,0,0,0,0],\n",
    "#          [0,0,0,0,0,0,0,0,0],\n",
    "#          [0,0,0,0,0,0,0,0,0],\n",
    "#          [0,0,0,0,0,0,0,0,0],\n",
    "#          [0,0,0,0,0,0,0,0,0],\n",
    "#          [0,0,0,0,0,0,0,0,0],\n",
    "#          [0,0,0,0,0,0,0,0,0]]"
   ]
  },
  {
   "cell_type": "code",
   "execution_count": 3,
   "metadata": {},
   "outputs": [],
   "source": [
    "# easy\n",
    "# board = [[0,0,0,2,0,0,7,0,0],\n",
    "#          [0,5,0,0,9,6,8,3,2],\n",
    "#          [0,8,0,7,0,0,0,0,6],\n",
    "#          [4,1,0,0,0,0,0,7,8],\n",
    "#          [0,2,0,0,7,4,5,0,0],\n",
    "#          [7,0,3,1,8,5,4,0,0],\n",
    "#          [0,0,2,5,3,1,0,0,4],\n",
    "#          [0,3,1,6,4,0,0,5,0],\n",
    "#          [0,0,9,0,0,0,6,1,0]]"
   ]
  },
  {
   "cell_type": "code",
   "execution_count": 4,
   "metadata": {},
   "outputs": [],
   "source": [
    "# expert\n",
    "board = [[6,0,0,0,0,5,0,0,0],\n",
    "         [0,0,0,3,0,9,0,5,0],\n",
    "         [0,0,0,0,4,0,0,6,0],\n",
    "         [4,0,3,0,0,0,0,0,0],\n",
    "         [0,8,0,7,0,0,2,0,0],\n",
    "         [0,0,0,0,0,1,7,0,0],\n",
    "         [0,0,0,0,9,0,0,0,6],\n",
    "         [0,0,5,0,2,0,8,4,9],\n",
    "         [0,4,0,0,0,3,0,0,0]]"
   ]
  },
  {
   "cell_type": "code",
   "execution_count": 5,
   "metadata": {},
   "outputs": [],
   "source": [
    "# check if inputing n at [x, y] is possible\n",
    "def checkPossible(board, x, y, n):\n",
    "    for i in range(9):\n",
    "        if board[x][i]==n:\n",
    "            return False\n",
    "        \n",
    "    for i in range(9):\n",
    "        if board[i][y]==n:\n",
    "            return False\n",
    "        \n",
    "    boxX = x // 3 * 3\n",
    "    boxY = y // 3 * 3\n",
    "        \n",
    "    for i in range(3):\n",
    "        for j in range(3):\n",
    "            if board[boxX+i][boxY+j]==n:\n",
    "                return False\n",
    "\n",
    "    return True"
   ]
  },
  {
   "cell_type": "code",
   "execution_count": 6,
   "metadata": {},
   "outputs": [],
   "source": [
    "# print the Board properly\n",
    "def printBoard(board):\n",
    "    for i in board:\n",
    "        print(i)"
   ]
  },
  {
   "cell_type": "code",
   "execution_count": 7,
   "metadata": {},
   "outputs": [],
   "source": [
    "# solve the input board by brute force\n",
    "def solve(board):\n",
    "    for i in range(9):\n",
    "        for j in range(9):\n",
    "            if board[i][j] == 0:\n",
    "                for n in range(1,10):\n",
    "                    if checkPossible(board, i, j, n):\n",
    "                        board[i][j] = n\n",
    "                        solve(board)\n",
    "                        board[i][j] = 0\n",
    "                return\n",
    "    print('final board: ')\n",
    "    printBoard(board)"
   ]
  },
  {
   "cell_type": "code",
   "execution_count": 8,
   "metadata": {},
   "outputs": [
    {
     "name": "stdout",
     "output_type": "stream",
     "text": [
      "final board: \n",
      "[6, 9, 4, 1, 7, 5, 3, 2, 8]\n",
      "[8, 1, 2, 3, 6, 9, 4, 5, 7]\n",
      "[3, 5, 7, 2, 4, 8, 9, 6, 1]\n",
      "[4, 7, 3, 9, 8, 2, 6, 1, 5]\n",
      "[5, 8, 1, 7, 3, 6, 2, 9, 4]\n",
      "[2, 6, 9, 4, 5, 1, 7, 8, 3]\n",
      "[7, 2, 8, 5, 9, 4, 1, 3, 6]\n",
      "[1, 3, 5, 6, 2, 7, 8, 4, 9]\n",
      "[9, 4, 6, 8, 1, 3, 5, 7, 2]\n"
     ]
    }
   ],
   "source": [
    "solve(board)"
   ]
  }
 ],
 "metadata": {
  "kernelspec": {
   "display_name": "Python 3",
   "language": "python",
   "name": "python3"
  },
  "language_info": {
   "codemirror_mode": {
    "name": "ipython",
    "version": 3
   },
   "file_extension": ".py",
   "mimetype": "text/x-python",
   "name": "python",
   "nbconvert_exporter": "python",
   "pygments_lexer": "ipython3",
   "version": "3.7.3"
  }
 },
 "nbformat": 4,
 "nbformat_minor": 2
}
